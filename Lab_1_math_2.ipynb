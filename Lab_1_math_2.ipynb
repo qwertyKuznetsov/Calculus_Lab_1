{
  "nbformat": 4,
  "nbformat_minor": 0,
  "metadata": {
    "colab": {
      "provenance": [],
      "include_colab_link": true
    },
    "kernelspec": {
      "name": "python3",
      "display_name": "Python 3"
    },
    "language_info": {
      "name": "python"
    }
  },
  "cells": [
    {
      "cell_type": "markdown",
      "metadata": {
        "id": "view-in-github",
        "colab_type": "text"
      },
      "source": [
        "<a href=\"https://colab.research.google.com/github/qwertyKuznetsov/Calculus_Lab_1/blob/main/Lab_1_math_2.ipynb\" target=\"_parent\"><img src=\"https://colab.research.google.com/assets/colab-badge.svg\" alt=\"Open In Colab\"/></a>"
      ]
    },
    {
      "cell_type": "markdown",
      "source": [
        "ТЗ"
      ],
      "metadata": {
        "id": "-KTht16P5vlF"
      }
    },
    {
      "cell_type": "code",
      "source": [
        "# Формулировка задания:\n",
        "# Постоить графики f(x) и ступенчатые фигуры, соответсвующие суммам Дарбу для некоторых значений n\n",
        "# Построить графики интегральных сумм со случайными оснащениями (ξ) для тех же разбиений\n",
        "# По желанию написать программу, вычисляющую приближённое значение интеграла для равномерного разбиения методом трапеций\n",
        "# Нарисовать рисунок, сравнить результаты.\n"
      ],
      "metadata": {
        "id": "BJt9YtXk50Bl"
      },
      "execution_count": 1,
      "outputs": []
    },
    {
      "cell_type": "markdown",
      "source": [
        "Установка библиотек"
      ],
      "metadata": {
        "id": "ewVmi6lmrRwP"
      }
    },
    {
      "cell_type": "code",
      "execution_count": 3,
      "metadata": {
        "id": "yazb_EXKqAkC",
        "colab": {
          "base_uri": "https://localhost:8080/"
        },
        "outputId": "09a40b67-943d-48cb-9e8c-3822de2c78bd"
      },
      "outputs": [
        {
          "output_type": "stream",
          "name": "stdout",
          "text": [
            "Requirement already satisfied: matplotlib in /usr/local/lib/python3.10/dist-packages (3.7.1)\n",
            "Requirement already satisfied: contourpy>=1.0.1 in /usr/local/lib/python3.10/dist-packages (from matplotlib) (1.2.0)\n",
            "Requirement already satisfied: cycler>=0.10 in /usr/local/lib/python3.10/dist-packages (from matplotlib) (0.12.1)\n",
            "Requirement already satisfied: fonttools>=4.22.0 in /usr/local/lib/python3.10/dist-packages (from matplotlib) (4.50.0)\n",
            "Requirement already satisfied: kiwisolver>=1.0.1 in /usr/local/lib/python3.10/dist-packages (from matplotlib) (1.4.5)\n",
            "Requirement already satisfied: numpy>=1.20 in /usr/local/lib/python3.10/dist-packages (from matplotlib) (1.25.2)\n",
            "Requirement already satisfied: packaging>=20.0 in /usr/local/lib/python3.10/dist-packages (from matplotlib) (24.0)\n",
            "Requirement already satisfied: pillow>=6.2.0 in /usr/local/lib/python3.10/dist-packages (from matplotlib) (9.4.0)\n",
            "Requirement already satisfied: pyparsing>=2.3.1 in /usr/local/lib/python3.10/dist-packages (from matplotlib) (3.1.2)\n",
            "Requirement already satisfied: python-dateutil>=2.7 in /usr/local/lib/python3.10/dist-packages (from matplotlib) (2.8.2)\n",
            "Requirement already satisfied: six>=1.5 in /usr/local/lib/python3.10/dist-packages (from python-dateutil>=2.7->matplotlib) (1.16.0)\n"
          ]
        }
      ],
      "source": [
        "!pip3 install matplotlib"
      ]
    },
    {
      "cell_type": "markdown",
      "source": [
        "Импорт библиотек"
      ],
      "metadata": {
        "id": "yIU_LBXPFeuX"
      }
    },
    {
      "cell_type": "code",
      "source": [
        "from numpy import arange\n",
        "import matplotlib.pyplot as plt\n",
        "from matplotlib.patches import Rectangle, Polygon\n",
        "import random\n",
        "from math import *"
      ],
      "metadata": {
        "id": "lOQXcaJXr7zC"
      },
      "execution_count": 10,
      "outputs": []
    },
    {
      "cell_type": "markdown",
      "source": [
        "Функции"
      ],
      "metadata": {
        "id": "XaH2-v_KfxCN"
      }
    },
    {
      "cell_type": "code",
      "source": [
        "def cot(x):\n",
        "  return 1/tan(x)\n",
        "\n",
        "def acot(x):\n",
        "  return pi/2 - atan(x)"
      ],
      "metadata": {
        "id": "mgyXlf_2fzfx"
      },
      "execution_count": 11,
      "outputs": []
    },
    {
      "cell_type": "markdown",
      "source": [
        "Ввод данных"
      ],
      "metadata": {
        "id": "BtT0tNysF0qH"
      }
    },
    {
      "cell_type": "code",
      "source": [
        "# Сообщения для пользователя\n",
        "print('Для произведения используйте символ \"*\", для деления - \"/\"\\n\\\n",
        "Для возведения в степень используйте символ \"^\"\\n\\\n",
        "Для использования тригонометрических функций введите: sin(x), asin(x), cos(x), acos(x), tan(x), atan(x), cot(x), acot(x),\\n\\\n",
        "углы следует указывать в радианах.\\n\\\n",
        "Для использования логарифма введите: log(выражение, основание)\\n\\\n",
        "Для использования числа Пи введите: \"pi\"\\n\\\n",
        "Для использования числа Эйлера введите: \"e\"\\n\\\n",
        "Доступные способы разбиения: left, right, aver, rand, trap (for trapezoid, разбиение методом трапеций)\\n')\n",
        "\n",
        "# Считывание n, a, b\n",
        "print('Введите числа n, a, b через пробел:')\n",
        "\n",
        "arr = list(input().split())\n",
        "e = 2.72\n",
        "pi = 3.14\n",
        "n, a, b = eval(arr[0]), eval(arr[1]), eval(arr[2])\n",
        "\n",
        "# Ввод способа разбиения\n",
        "print('\\nВведите способ разбиения:')\n",
        "w = input()\n",
        "\n",
        "# Функция\n",
        "print('\\nВведите выражение:')\n",
        "str_func = input().replace('^', '**')"
      ],
      "metadata": {
        "colab": {
          "base_uri": "https://localhost:8080/"
        },
        "id": "uLrPtsBDF2VK",
        "outputId": "f049e5f4-d1fe-4823-ac35-79d9a739f7ea"
      },
      "execution_count": 12,
      "outputs": [
        {
          "name": "stdout",
          "output_type": "stream",
          "text": [
            "Для произведения используйте символ \"*\", для деления - \"/\"\n",
            "Для возведения в степень используйте символ \"^\"\n",
            "Для использования тригонометрических функций введите: sin(x), asin(x), cos(x), acos(x), tan(x), atan(x), cot(x), acot(x),\n",
            "углы следует указывать в радианах.\n",
            "Для использования логарифма введите: log(выражение, основание)\n",
            "Для использования числа Пи введите: \"pi\"\n",
            "Для использования числа Эйлера введите: \"e\"\n",
            "Доступные способы разбиения: left, right, aver, rand, trap (for trapezoid, разбиение методом трапеций)\n",
            "\n",
            "Введите числа n, a, b через пробел:\n",
            "10 0 0.5\n",
            "\n",
            "Введите способ разбиения:\n",
            "trap\n",
            "\n",
            "Введите выражение:\n",
            "e^(3*x)\n"
          ]
        }
      ]
    },
    {
      "cell_type": "markdown",
      "source": [
        "Функция, которая вычисляет значение функции"
      ],
      "metadata": {
        "id": "z7rIsjbjdwgF"
      }
    },
    {
      "cell_type": "code",
      "source": [
        "# Заполнение yh, значениями функции str_func от иксов из xh\n",
        "def foo(str_func, xh):\n",
        "  yh = [eval(str_func) for x in xh]\n",
        "  return yh"
      ],
      "metadata": {
        "id": "xu_9_Tjidvv2"
      },
      "execution_count": 14,
      "outputs": []
    },
    {
      "cell_type": "markdown",
      "source": [
        "Отрисовка и подсчет инеграла"
      ],
      "metadata": {
        "id": "cUOwydsCF5Ad"
      }
    },
    {
      "cell_type": "code",
      "source": [
        "# Оснащение\n",
        "def equipment(w, a, b, n):\n",
        "  c = []\n",
        "  for i in range(1, n + 1):\n",
        "    ci = 0\n",
        "    if w == 'left':\n",
        "      ci = a + (b - a) * (i - 1) / n\n",
        "    elif w == 'right':\n",
        "      ci = a + (b - a) * i / n\n",
        "    elif w == 'aver':\n",
        "      ci = a + (b - a) * (i - 0.5) / n\n",
        "    elif w == 'rand':\n",
        "      ci = a + (b - a) * (i - 1) / n + random.uniform(0, (b - a) / n)\n",
        "    elif w == \"trap\":\n",
        "      ci = a + (b - a) * (i - 1) / n\n",
        "\n",
        "    c.append(ci)\n",
        "  return c\n",
        "\n",
        "# Считаем интегральную сумму для данных разбиения, a, b\n",
        "def calculate_integral(yh, a, b, n, w):\n",
        "  if w == \"trap\":\n",
        "    integral = (sum(yh) - 0.5*yh[0] - 0.5*yh[-1]) * (b - a) / n\n",
        "  else:\n",
        "    integral = sum(yh) * (b - a) / n\n",
        "  return integral\n",
        "\n",
        "# Рисуем интеграл и интегральную сумму\n",
        "def draw(x, y, a, b, n, yh):\n",
        "  fig, ax = plt.subplots()\n",
        "  ax.plot(x, y)\n",
        "  if w == \"trap\":\n",
        "    for i in range(1, n + 1):\n",
        "      ax.add_patch(Polygon([(xh[i-1], 0), (xh[i-1], yh[i-1]), (xh[i], yh[i]), (xh[i], 0)],\n",
        "                            edgecolor = 'blue',\n",
        "                            facecolor = 'white'))\n",
        "  else:\n",
        "    for i in range(1, n + 1):\n",
        "      ax.add_patch(Rectangle((a + (b - a) * (i - 1) / n, 0), (b - a) / n, yh[i - 1],\n",
        "                            edgecolor = 'blue',\n",
        "                            facecolor = 'white'))\n",
        "  plt.show()\n",
        "\n",
        "# Точность\n",
        "accuracy = 100\n",
        "\n",
        "# Создали иксы и игреки\n",
        "x = [x for x in arange(a, b + 1 / accuracy, 1 / accuracy)]\n",
        "y = [eval(str_func) for x in arange(a, b + 1 / accuracy, 1 / accuracy)]\n",
        "\n",
        "# Создали значения для прямоугольников\n",
        "xh = equipment(w, a, b, n) # оснащение\n",
        "if w == \"trap\":\n",
        "  xh.append(b)\n",
        "yh = foo(str_func, xh) # высота\n",
        "\n",
        "draw(x, y, a, b, n, yh)\n",
        "\n",
        "print('Значение интеграла:', calculate_integral(yh, a, b, n, w))"
      ],
      "metadata": {
        "colab": {
          "base_uri": "https://localhost:8080/",
          "height": 447
        },
        "id": "EEpUdvpsxPR_",
        "outputId": "f3c36929-54ba-4c5c-c999-be57212f1ed3"
      },
      "execution_count": 15,
      "outputs": [
        {
          "output_type": "display_data",
          "data": {
            "text/plain": [
              "<Figure size 640x480 with 1 Axes>"
            ],
            "image/png": "[encoded data removed]"
          },
          "metadata": {}
        },
        {
          "output_type": "stream",
          "name": "stdout",
          "text": [
            "Значение интеграла: 1.1634251422076218\n"
          ]
        }
      ]
    }
  ]
}